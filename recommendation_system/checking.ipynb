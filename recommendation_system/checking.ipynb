{
 "cells": [
  {
   "cell_type": "code",
   "execution_count": 1,
   "id": "f79a211a",
   "metadata": {},
   "outputs": [
    {
     "name": "stdout",
     "output_type": "stream",
     "text": [
      "Fitness Goal\n",
      "1    7581\n",
      "0    7008\n",
      "Name: count, dtype: int64\n"
     ]
    }
   ],
   "source": [
    "import pandas as pd\n",
    "df = pd.read_csv(\"encoded_dataset.csv\")\n",
    "print(df[\"Fitness Goal\"].value_counts())\n"
   ]
  },
  {
   "cell_type": "code",
   "execution_count": 4,
   "id": "37023763",
   "metadata": {},
   "outputs": [
    {
     "name": "stdout",
     "output_type": "stream",
     "text": [
      "Index(['ID', 'Sex', 'Age', 'Height', 'Weight', 'Hypertension', 'Diabetes',\n",
      "       'BMI', 'Level', 'Fitness Goal', 'Fitness Type', 'Exercises',\n",
      "       'Equipment', 'Diet', 'Recommendation'],\n",
      "      dtype='object')\n",
      "Number of unique exercise recommendations: 1114\n",
      "\n",
      "Unique exercise recommendations:\n",
      "[16.83 19.49 25.51 ... 25.04 25.77 27.67]\n"
     ]
    }
   ],
   "source": [
    "import pandas as pd\n",
    "\n",
    "# Load your Excel file (change 'your_dataset.xlsx' to your actual file name)\n",
    "df = pd.read_excel(\"gym_recommendation_dataset.xlsx\")\n",
    "\n",
    "# Check the name of the column that contains the exercise recommendation\n",
    "print(df.columns)  # Run this to verify the column name\n",
    "\n",
    "# Let's assume the column is named \"Exercises\"\n",
    "unique_exercises = df[\"BMI\"].nunique()\n",
    "print(f\"Number of unique exercise recommendations: {unique_exercises}\")\n",
    "\n",
    "# If you want to also *see* the unique values:\n",
    "print(\"\\nUnique exercise recommendations:\")\n",
    "print(df[\"BMI\"].unique())\n"
   ]
  },
  {
   "cell_type": "code",
   "execution_count": null,
   "id": "0003d014",
   "metadata": {},
   "outputs": [],
   "source": []
  }
 ],
 "metadata": {
  "kernelspec": {
   "display_name": "venv",
   "language": "python",
   "name": "python3"
  },
  "language_info": {
   "codemirror_mode": {
    "name": "ipython",
    "version": 3
   },
   "file_extension": ".py",
   "mimetype": "text/x-python",
   "name": "python",
   "nbconvert_exporter": "python",
   "pygments_lexer": "ipython3",
   "version": "3.12.7"
  }
 },
 "nbformat": 4,
 "nbformat_minor": 5
}
